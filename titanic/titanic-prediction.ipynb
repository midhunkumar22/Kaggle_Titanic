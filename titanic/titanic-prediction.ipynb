{
 "cells": [
  {
   "cell_type": "code",
   "execution_count": 1,
   "id": "median-ceramic",
   "metadata": {
    "_cell_guid": "b1076dfc-b9ad-4769-8c92-a6c4dae69d19",
    "_uuid": "8f2839f25d086af736a60e9eeb907d3b93b6e0e5",
    "execution": {
     "iopub.execute_input": "2021-06-10T11:44:45.110014Z",
     "iopub.status.busy": "2021-06-10T11:44:45.107992Z",
     "iopub.status.idle": "2021-06-10T11:44:45.121357Z",
     "shell.execute_reply": "2021-06-10T11:44:45.120603Z",
     "shell.execute_reply.started": "2021-06-10T11:28:31.135771Z"
    },
    "papermill": {
     "duration": 0.062753,
     "end_time": "2021-06-10T11:44:45.121596",
     "exception": false,
     "start_time": "2021-06-10T11:44:45.058843",
     "status": "completed"
    },
    "tags": []
   },
   "outputs": [],
   "source": [
    "##################################################\n",
    "## Titanic Prediction\n",
    "##################################################\n",
    "#!/usr/bin/python\n",
    "__author__ = 'Midhunkumar S'\n",
    "__version__ = '0.1.0'\n",
    "__maintainer__ = 'Kaggle'\n",
    "__status__ = 'Dev'\n",
    "##################################################"
   ]
  },
  {
   "cell_type": "code",
   "execution_count": 2,
   "id": "focused-phase",
   "metadata": {
    "execution": {
     "iopub.execute_input": "2021-06-10T11:44:45.220198Z",
     "iopub.status.busy": "2021-06-10T11:44:45.219257Z",
     "iopub.status.idle": "2021-06-10T11:44:46.977834Z",
     "shell.execute_reply": "2021-06-10T11:44:46.977018Z",
     "shell.execute_reply.started": "2021-06-10T11:28:31.148926Z"
    },
    "papermill": {
     "duration": 1.811167,
     "end_time": "2021-06-10T11:44:46.978035",
     "exception": false,
     "start_time": "2021-06-10T11:44:45.166868",
     "status": "completed"
    },
    "tags": []
   },
   "outputs": [],
   "source": [
    "# Importing Libraries for data handling and EDA\n",
    "import pandas as pd\n",
    "import re\n",
    "import numpy as np\n",
    "import matplotlib.pyplot as plt\n",
    "import seaborn as sns\n",
    "sns.set_style(\"whitegrid\")\n",
    "sns.set_palette(\"YlGnBu\")\n",
    "\n",
    "# Ignoring FutureWarning\n",
    "import warnings\n",
    "warnings.filterwarnings(\"ignore\")\n",
    "\n",
    "# Importing Libraries for Feature engineering and Modeling \n",
    "from sklearn.preprocessing import LabelEncoder\n",
    "from sklearn.impute import KNNImputer\n",
    "\n",
    "# Setting Random seed\n",
    "seed =np.random.seed(55)\n",
    "\n",
    "# Importing Libraries for Modeling\n",
    "from sklearn.model_selection import cross_val_score\n",
    "from sklearn.naive_bayes import GaussianNB\n",
    "from sklearn.tree  import DecisionTreeClassifier\n",
    "from sklearn.ensemble import RandomForestClassifier\n",
    "from catboost import CatBoostClassifier\n",
    "from sklearn.model_selection import StratifiedKFold\n",
    "from sklearn.metrics import roc_auc_score\n",
    "from xgboost import XGBRFClassifier\n",
    "from sklearn.model_selection import RandomizedSearchCV\n",
    "from sklearn.metrics import roc_curve,auc"
   ]
  },
  {
   "cell_type": "markdown",
   "id": "funky-tumor",
   "metadata": {
    "papermill": {
     "duration": 0.045546,
     "end_time": "2021-06-10T11:44:47.068618",
     "exception": false,
     "start_time": "2021-06-10T11:44:47.023072",
     "status": "completed"
    },
    "tags": []
   },
   "source": [
    "## `EDA`"
   ]
  },
  {
   "cell_type": "code",
   "execution_count": 3,
   "id": "expired-cement",
   "metadata": {
    "execution": {
     "iopub.execute_input": "2021-06-10T11:44:47.165458Z",
     "iopub.status.busy": "2021-06-10T11:44:47.164729Z",
     "iopub.status.idle": "2021-06-10T11:44:47.203902Z",
     "shell.execute_reply": "2021-06-10T11:44:47.203030Z",
     "shell.execute_reply.started": "2021-06-10T11:28:31.164173Z"
    },
    "papermill": {
     "duration": 0.090742,
     "end_time": "2021-06-10T11:44:47.204112",
     "exception": false,
     "start_time": "2021-06-10T11:44:47.113370",
     "status": "completed"
    },
    "tags": []
   },
   "outputs": [],
   "source": [
    "# Importing dataset\n",
    "\n",
    "Train_df = pd.read_csv(\"../input/titanic/train.csv\")\n",
    "Test_df = pd.read_csv(\"../input/titanic/test.csv\")"
   ]
  },
  {
   "cell_type": "code",
   "execution_count": 4,
   "id": "automated-azerbaijan",
   "metadata": {
    "execution": {
     "iopub.execute_input": "2021-06-10T11:44:47.299061Z",
     "iopub.status.busy": "2021-06-10T11:44:47.297784Z",
     "iopub.status.idle": "2021-06-10T11:44:47.304128Z",
     "shell.execute_reply": "2021-06-10T11:44:47.303219Z",
     "shell.execute_reply.started": "2021-06-10T11:28:31.187407Z"
    },
    "papermill": {
     "duration": 0.054882,
     "end_time": "2021-06-10T11:44:47.304281",
     "exception": false,
     "start_time": "2021-06-10T11:44:47.249399",
     "status": "completed"
    },
    "tags": []
   },
   "outputs": [
    {
     "name": "stdout",
     "output_type": "stream",
     "text": [
      "Train Shape : (891, 12)\n",
      "Test Shape : (418, 11)\n"
     ]
    }
   ],
   "source": [
    "# Dataset Size\n",
    "print(\"Train Shape :\",Train_df.shape)\n",
    "print(\"Test Shape :\",Test_df.shape)"
   ]
  },
  {
   "cell_type": "code",
   "execution_count": 5,
   "id": "emerging-forward",
   "metadata": {
    "execution": {
     "iopub.execute_input": "2021-06-10T11:44:47.399420Z",
     "iopub.status.busy": "2021-06-10T11:44:47.398706Z",
     "iopub.status.idle": "2021-06-10T11:44:47.403946Z",
     "shell.execute_reply": "2021-06-10T11:44:47.403011Z",
     "shell.execute_reply.started": "2021-06-10T11:28:31.226842Z"
    },
    "papermill": {
     "duration": 0.054705,
     "end_time": "2021-06-10T11:44:47.404124",
     "exception": false,
     "start_time": "2021-06-10T11:44:47.349419",
     "status": "completed"
    },
    "tags": []
   },
   "outputs": [
    {
     "name": "stdout",
     "output_type": "stream",
     "text": [
      "Train: ['PassengerId', 'Survived', 'Pclass', 'Name', 'Sex', 'Age', 'SibSp', 'Parch', 'Ticket', 'Fare', 'Cabin', 'Embarked']\n",
      "Test: ['PassengerId', 'Pclass', 'Name', 'Sex', 'Age', 'SibSp', 'Parch', 'Ticket', 'Fare', 'Cabin', 'Embarked']\n"
     ]
    }
   ],
   "source": [
    "# Comparing Columns with Train and test\n",
    "print (\"Train:\", Train_df.columns.to_list())\n",
    "print (\"Test:\",Test_df.columns.to_list())"
   ]
  },
  {
   "cell_type": "code",
   "execution_count": 6,
   "id": "sought-partner",
   "metadata": {
    "execution": {
     "iopub.execute_input": "2021-06-10T11:44:47.512270Z",
     "iopub.status.busy": "2021-06-10T11:44:47.511237Z",
     "iopub.status.idle": "2021-06-10T11:44:47.535797Z",
     "shell.execute_reply": "2021-06-10T11:44:47.536392Z",
     "shell.execute_reply.started": "2021-06-10T11:28:31.285116Z"
    },
    "papermill": {
     "duration": 0.087318,
     "end_time": "2021-06-10T11:44:47.536660",
     "exception": false,
     "start_time": "2021-06-10T11:44:47.449342",
     "status": "completed"
    },
    "tags": []
   },
   "outputs": [
    {
     "data": {
      "text/html": [
       "<div>\n",
       "<style scoped>\n",
       "    .dataframe tbody tr th:only-of-type {\n",
       "        vertical-align: middle;\n",
       "    }\n",
       "\n",
       "    .dataframe tbody tr th {\n",
       "        vertical-align: top;\n",
       "    }\n",
       "\n",
       "    .dataframe thead th {\n",
       "        text-align: right;\n",
       "    }\n",
       "</style>\n",
       "<table border=\"1\" class=\"dataframe\">\n",
       "  <thead>\n",
       "    <tr style=\"text-align: right;\">\n",
       "      <th></th>\n",
       "      <th>PassengerId</th>\n",
       "      <th>Survived</th>\n",
       "      <th>Pclass</th>\n",
       "      <th>Name</th>\n",
       "      <th>Sex</th>\n",
       "      <th>Age</th>\n",
       "      <th>SibSp</th>\n",
       "      <th>Parch</th>\n",
       "      <th>Ticket</th>\n",
       "      <th>Fare</th>\n",
       "      <th>Cabin</th>\n",
       "      <th>Embarked</th>\n",
       "    </tr>\n",
       "  </thead>\n",
       "  <tbody>\n",
       "    <tr>\n",
       "      <th>713</th>\n",
       "      <td>714</td>\n",
       "      <td>0</td>\n",
       "      <td>3</td>\n",
       "      <td>Larsson, Mr. August Viktor</td>\n",
       "      <td>male</td>\n",
       "      <td>29.0</td>\n",
       "      <td>0</td>\n",
       "      <td>0</td>\n",
       "      <td>7545</td>\n",
       "      <td>9.4833</td>\n",
       "      <td>NaN</td>\n",
       "      <td>S</td>\n",
       "    </tr>\n",
       "    <tr>\n",
       "      <th>726</th>\n",
       "      <td>727</td>\n",
       "      <td>1</td>\n",
       "      <td>2</td>\n",
       "      <td>Renouf, Mrs. Peter Henry (Lillian Jefferys)</td>\n",
       "      <td>female</td>\n",
       "      <td>30.0</td>\n",
       "      <td>3</td>\n",
       "      <td>0</td>\n",
       "      <td>31027</td>\n",
       "      <td>21.0000</td>\n",
       "      <td>NaN</td>\n",
       "      <td>S</td>\n",
       "    </tr>\n",
       "    <tr>\n",
       "      <th>262</th>\n",
       "      <td>263</td>\n",
       "      <td>0</td>\n",
       "      <td>1</td>\n",
       "      <td>Taussig, Mr. Emil</td>\n",
       "      <td>male</td>\n",
       "      <td>52.0</td>\n",
       "      <td>1</td>\n",
       "      <td>1</td>\n",
       "      <td>110413</td>\n",
       "      <td>79.6500</td>\n",
       "      <td>E67</td>\n",
       "      <td>S</td>\n",
       "    </tr>\n",
       "    <tr>\n",
       "      <th>266</th>\n",
       "      <td>267</td>\n",
       "      <td>0</td>\n",
       "      <td>3</td>\n",
       "      <td>Panula, Mr. Ernesti Arvid</td>\n",
       "      <td>male</td>\n",
       "      <td>16.0</td>\n",
       "      <td>4</td>\n",
       "      <td>1</td>\n",
       "      <td>3101295</td>\n",
       "      <td>39.6875</td>\n",
       "      <td>NaN</td>\n",
       "      <td>S</td>\n",
       "    </tr>\n",
       "    <tr>\n",
       "      <th>186</th>\n",
       "      <td>187</td>\n",
       "      <td>1</td>\n",
       "      <td>3</td>\n",
       "      <td>O'Brien, Mrs. Thomas (Johanna \"Hannah\" Godfrey)</td>\n",
       "      <td>female</td>\n",
       "      <td>NaN</td>\n",
       "      <td>1</td>\n",
       "      <td>0</td>\n",
       "      <td>370365</td>\n",
       "      <td>15.5000</td>\n",
       "      <td>NaN</td>\n",
       "      <td>Q</td>\n",
       "    </tr>\n",
       "  </tbody>\n",
       "</table>\n",
       "</div>"
      ],
      "text/plain": [
       "     PassengerId  Survived  Pclass  \\\n",
       "713          714         0       3   \n",
       "726          727         1       2   \n",
       "262          263         0       1   \n",
       "266          267         0       3   \n",
       "186          187         1       3   \n",
       "\n",
       "                                                Name     Sex   Age  SibSp  \\\n",
       "713                       Larsson, Mr. August Viktor    male  29.0      0   \n",
       "726      Renouf, Mrs. Peter Henry (Lillian Jefferys)  female  30.0      3   \n",
       "262                                Taussig, Mr. Emil    male  52.0      1   \n",
       "266                        Panula, Mr. Ernesti Arvid    male  16.0      4   \n",
       "186  O'Brien, Mrs. Thomas (Johanna \"Hannah\" Godfrey)  female   NaN      1   \n",
       "\n",
       "     Parch   Ticket     Fare Cabin Embarked  \n",
       "713      0     7545   9.4833   NaN        S  \n",
       "726      0    31027  21.0000   NaN        S  \n",
       "262      1   110413  79.6500   E67        S  \n",
       "266      1  3101295  39.6875   NaN        S  \n",
       "186      0   370365  15.5000   NaN        Q  "
      ]
     },
     "execution_count": 6,
     "metadata": {},
     "output_type": "execute_result"
    }
   ],
   "source": [
    "#Train sample \n",
    "Train_df.sample(5)"
   ]
  },
  {
   "cell_type": "code",
   "execution_count": 7,
   "id": "tested-plaintiff",
   "metadata": {
    "execution": {
     "iopub.execute_input": "2021-06-10T11:44:47.645604Z",
     "iopub.status.busy": "2021-06-10T11:44:47.644837Z",
     "iopub.status.idle": "2021-06-10T11:44:47.649213Z",
     "shell.execute_reply": "2021-06-10T11:44:47.648531Z",
     "shell.execute_reply.started": "2021-06-10T11:28:31.400424Z"
    },
    "papermill": {
     "duration": 0.06842,
     "end_time": "2021-06-10T11:44:47.649369",
     "exception": false,
     "start_time": "2021-06-10T11:44:47.580949",
     "status": "completed"
    },
    "tags": []
   },
   "outputs": [
    {
     "data": {
      "text/html": [
       "<div>\n",
       "<style scoped>\n",
       "    .dataframe tbody tr th:only-of-type {\n",
       "        vertical-align: middle;\n",
       "    }\n",
       "\n",
       "    .dataframe tbody tr th {\n",
       "        vertical-align: top;\n",
       "    }\n",
       "\n",
       "    .dataframe thead th {\n",
       "        text-align: right;\n",
       "    }\n",
       "</style>\n",
       "<table border=\"1\" class=\"dataframe\">\n",
       "  <thead>\n",
       "    <tr style=\"text-align: right;\">\n",
       "      <th></th>\n",
       "      <th>PassengerId</th>\n",
       "      <th>Pclass</th>\n",
       "      <th>Name</th>\n",
       "      <th>Sex</th>\n",
       "      <th>Age</th>\n",
       "      <th>SibSp</th>\n",
       "      <th>Parch</th>\n",
       "      <th>Ticket</th>\n",
       "      <th>Fare</th>\n",
       "      <th>Cabin</th>\n",
       "      <th>Embarked</th>\n",
       "    </tr>\n",
       "  </thead>\n",
       "  <tbody>\n",
       "    <tr>\n",
       "      <th>50</th>\n",
       "      <td>942</td>\n",
       "      <td>1</td>\n",
       "      <td>Smith, Mr. Lucien Philip</td>\n",
       "      <td>male</td>\n",
       "      <td>24.0</td>\n",
       "      <td>1</td>\n",
       "      <td>0</td>\n",
       "      <td>13695</td>\n",
       "      <td>60.0000</td>\n",
       "      <td>C31</td>\n",
       "      <td>S</td>\n",
       "    </tr>\n",
       "    <tr>\n",
       "      <th>347</th>\n",
       "      <td>1239</td>\n",
       "      <td>3</td>\n",
       "      <td>Whabee, Mrs. George Joseph (Shawneene Abi-Saab)</td>\n",
       "      <td>female</td>\n",
       "      <td>38.0</td>\n",
       "      <td>0</td>\n",
       "      <td>0</td>\n",
       "      <td>2688</td>\n",
       "      <td>7.2292</td>\n",
       "      <td>NaN</td>\n",
       "      <td>C</td>\n",
       "    </tr>\n",
       "    <tr>\n",
       "      <th>387</th>\n",
       "      <td>1279</td>\n",
       "      <td>2</td>\n",
       "      <td>Ashby, Mr. John</td>\n",
       "      <td>male</td>\n",
       "      <td>57.0</td>\n",
       "      <td>0</td>\n",
       "      <td>0</td>\n",
       "      <td>244346</td>\n",
       "      <td>13.0000</td>\n",
       "      <td>NaN</td>\n",
       "      <td>S</td>\n",
       "    </tr>\n",
       "    <tr>\n",
       "      <th>363</th>\n",
       "      <td>1255</td>\n",
       "      <td>3</td>\n",
       "      <td>Strilic, Mr. Ivan</td>\n",
       "      <td>male</td>\n",
       "      <td>27.0</td>\n",
       "      <td>0</td>\n",
       "      <td>0</td>\n",
       "      <td>315083</td>\n",
       "      <td>8.6625</td>\n",
       "      <td>NaN</td>\n",
       "      <td>S</td>\n",
       "    </tr>\n",
       "    <tr>\n",
       "      <th>222</th>\n",
       "      <td>1114</td>\n",
       "      <td>2</td>\n",
       "      <td>Cook, Mrs. (Selena Rogers)</td>\n",
       "      <td>female</td>\n",
       "      <td>22.0</td>\n",
       "      <td>0</td>\n",
       "      <td>0</td>\n",
       "      <td>W./C. 14266</td>\n",
       "      <td>10.5000</td>\n",
       "      <td>F33</td>\n",
       "      <td>S</td>\n",
       "    </tr>\n",
       "  </tbody>\n",
       "</table>\n",
       "</div>"
      ],
      "text/plain": [
       "     PassengerId  Pclass                                             Name  \\\n",
       "50           942       1                         Smith, Mr. Lucien Philip   \n",
       "347         1239       3  Whabee, Mrs. George Joseph (Shawneene Abi-Saab)   \n",
       "387         1279       2                                  Ashby, Mr. John   \n",
       "363         1255       3                                Strilic, Mr. Ivan   \n",
       "222         1114       2                       Cook, Mrs. (Selena Rogers)   \n",
       "\n",
       "        Sex   Age  SibSp  Parch       Ticket     Fare Cabin Embarked  \n",
       "50     male  24.0      1      0        13695  60.0000   C31        S  \n",
       "347  female  38.0      0      0         2688   7.2292   NaN        C  \n",
       "387    male  57.0      0      0       244346  13.0000   NaN        S  \n",
       "363    male  27.0      0      0       315083   8.6625   NaN        S  \n",
       "222  female  22.0      0      0  W./C. 14266  10.5000   F33        S  "
      ]
     },
     "execution_count": 7,
     "metadata": {},
     "output_type": "execute_result"
    }
   ],
   "source": [
    "#Test Sample\n",
    "Test_df.sample(5)"
   ]
  },
  {
   "cell_type": "code",
   "execution_count": 8,
   "id": "literary-airline",
   "metadata": {
    "execution": {
     "iopub.execute_input": "2021-06-10T11:44:47.765424Z",
     "iopub.status.busy": "2021-06-10T11:44:47.757097Z",
     "iopub.status.idle": "2021-06-10T11:44:47.769704Z",
     "shell.execute_reply": "2021-06-10T11:44:47.770187Z",
     "shell.execute_reply.started": "2021-06-10T11:28:31.430563Z"
    },
    "papermill": {
     "duration": 0.073734,
     "end_time": "2021-06-10T11:44:47.770380",
     "exception": false,
     "start_time": "2021-06-10T11:44:47.696646",
     "status": "completed"
    },
    "tags": []
   },
   "outputs": [
    {
     "name": "stdout",
     "output_type": "stream",
     "text": [
      "<class 'pandas.core.frame.DataFrame'>\n",
      "RangeIndex: 891 entries, 0 to 890\n",
      "Data columns (total 12 columns):\n",
      " #   Column       Non-Null Count  Dtype  \n",
      "---  ------       --------------  -----  \n",
      " 0   PassengerId  891 non-null    int64  \n",
      " 1   Survived     891 non-null    int64  \n",
      " 2   Pclass       891 non-null    int64  \n",
      " 3   Name         891 non-null    object \n",
      " 4   Sex          891 non-null    object \n",
      " 5   Age          714 non-null    float64\n",
      " 6   SibSp        891 non-null    int64  \n",
      " 7   Parch        891 non-null    int64  \n",
      " 8   Ticket       891 non-null    object \n",
      " 9   Fare         891 non-null    float64\n",
      " 10  Cabin        204 non-null    object \n",
      " 11  Embarked     889 non-null    object \n",
      "dtypes: float64(2), int64(5), object(5)\n",
      "memory usage: 83.7+ KB\n"
     ]
    }
   ],
   "source": [
    "# Train Info\n",
    "Train_df.info()\n"
   ]
  },
  {
   "cell_type": "code",
   "execution_count": 9,
   "id": "careful-estate",
   "metadata": {
    "execution": {
     "iopub.execute_input": "2021-06-10T11:44:47.872148Z",
     "iopub.status.busy": "2021-06-10T11:44:47.871155Z",
     "iopub.status.idle": "2021-06-10T11:44:47.890420Z",
     "shell.execute_reply": "2021-06-10T11:44:47.890979Z",
     "shell.execute_reply.started": "2021-06-10T11:28:31.450054Z"
    },
    "papermill": {
     "duration": 0.074261,
     "end_time": "2021-06-10T11:44:47.891195",
     "exception": false,
     "start_time": "2021-06-10T11:44:47.816934",
     "status": "completed"
    },
    "tags": []
   },
   "outputs": [
    {
     "name": "stdout",
     "output_type": "stream",
     "text": [
      "<class 'pandas.core.frame.DataFrame'>\n",
      "RangeIndex: 418 entries, 0 to 417\n",
      "Data columns (total 11 columns):\n",
      " #   Column       Non-Null Count  Dtype  \n",
      "---  ------       --------------  -----  \n",
      " 0   PassengerId  418 non-null    int64  \n",
      " 1   Pclass       418 non-null    int64  \n",
      " 2   Name         418 non-null    object \n",
      " 3   Sex          418 non-null    object \n",
      " 4   Age          332 non-null    float64\n",
      " 5   SibSp        418 non-null    int64  \n",
      " 6   Parch        418 non-null    int64  \n",
      " 7   Ticket       418 non-null    object \n",
      " 8   Fare         417 non-null    float64\n",
      " 9   Cabin        91 non-null     object \n",
      " 10  Embarked     418 non-null    object \n",
      "dtypes: float64(2), int64(4), object(5)\n",
      "memory usage: 36.0+ KB\n"
     ]
    }
   ],
   "source": [
    "Test_df.info()"
   ]
  },
  {
   "cell_type": "code",
   "execution_count": 10,
   "id": "everyday-packaging",
   "metadata": {
    "execution": {
     "iopub.execute_input": "2021-06-10T11:44:47.993017Z",
     "iopub.status.busy": "2021-06-10T11:44:47.992269Z",
     "iopub.status.idle": "2021-06-10T11:44:48.026138Z",
     "shell.execute_reply": "2021-06-10T11:44:48.025584Z",
     "shell.execute_reply.started": "2021-06-10T11:28:31.475207Z"
    },
    "papermill": {
     "duration": 0.085151,
     "end_time": "2021-06-10T11:44:48.026301",
     "exception": false,
     "start_time": "2021-06-10T11:44:47.941150",
     "status": "completed"
    },
    "tags": []
   },
   "outputs": [
    {
     "data": {
      "text/plain": [
       "PassengerId     0.000000\n",
       "Survived        0.000000\n",
       "Pclass          0.000000\n",
       "Name            0.000000\n",
       "Sex             0.000000\n",
       "Age            19.865320\n",
       "SibSp           0.000000\n",
       "Parch           0.000000\n",
       "Ticket          0.000000\n",
       "Fare            0.000000\n",
       "Cabin          77.104377\n",
       "Embarked        0.224467\n",
       "dtype: float64"
      ]
     },
     "execution_count": 10,
     "metadata": {},
     "output_type": "execute_result"
    }
   ],
   "source": [
    "# null Value Counts \n",
    "\n",
    "Train_df.isnull().sum()/len(Train_df)*100"
   ]
  },
  {
   "cell_type": "code",
   "execution_count": 11,
   "id": "formed-black",
   "metadata": {
    "execution": {
     "iopub.execute_input": "2021-06-10T11:44:48.132167Z",
     "iopub.status.busy": "2021-06-10T11:44:48.130908Z",
     "iopub.status.idle": "2021-06-10T11:44:48.135451Z",
     "shell.execute_reply": "2021-06-10T11:44:48.135898Z",
     "shell.execute_reply.started": "2021-06-10T11:28:31.519138Z"
    },
    "papermill": {
     "duration": 0.060964,
     "end_time": "2021-06-10T11:44:48.136089",
     "exception": false,
     "start_time": "2021-06-10T11:44:48.075125",
     "status": "completed"
    },
    "tags": []
   },
   "outputs": [
    {
     "data": {
      "text/plain": [
       "PassengerId     0.000000\n",
       "Pclass          0.000000\n",
       "Name            0.000000\n",
       "Sex             0.000000\n",
       "Age            20.574163\n",
       "SibSp           0.000000\n",
       "Parch           0.000000\n",
       "Ticket          0.000000\n",
       "Fare            0.239234\n",
       "Cabin          78.229665\n",
       "Embarked        0.000000\n",
       "dtype: float64"
      ]
     },
     "execution_count": 11,
     "metadata": {},
     "output_type": "execute_result"
    }
   ],
   "source": [
    "Test_df.isnull().sum()/len(Test_df)*100"
   ]
  },
  {
   "cell_type": "markdown",
   "id": "geographic-secret",
   "metadata": {
    "papermill": {
     "duration": 0.047606,
     "end_time": "2021-06-10T11:44:48.232775",
     "exception": false,
     "start_time": "2021-06-10T11:44:48.185169",
     "status": "completed"
    },
    "tags": []
   },
   "source": [
    "`* From Above Null Value counts we can see that cabin has 78% of null Values and Age 20%.`\n",
    "\n",
    "`* So, I would suggest to remove Cabin from dataset, as it might not be helpful for our analysis`"
   ]
  },
  {
   "cell_type": "code",
   "execution_count": 12,
   "id": "becoming-malpractice",
   "metadata": {
    "execution": {
     "iopub.execute_input": "2021-06-10T11:44:48.340099Z",
     "iopub.status.busy": "2021-06-10T11:44:48.339375Z",
     "iopub.status.idle": "2021-06-10T11:44:49.095827Z",
     "shell.execute_reply": "2021-06-10T11:44:49.095050Z",
     "shell.execute_reply.started": "2021-06-10T11:28:31.555849Z"
    },
    "papermill": {
     "duration": 0.81618,
     "end_time": "2021-06-10T11:44:49.095996",
     "exception": false,
     "start_time": "2021-06-10T11:44:48.279816",
     "status": "completed"
    },
    "tags": []
   },
   "outputs": [
    {
     "data": {
      "text/plain": [
       "<AxesSubplot:>"
      ]
     },
     "execution_count": 12,
     "metadata": {},
     "output_type": "execute_result"
    },
    {
     "data": {
      "image/png": "[encoded data removed]",
      "text/plain": [
       "<Figure size 720x360 with 2 Axes>"
      ]
     },
     "metadata": {},
     "output_type": "display_data"
    }
   ],
   "source": [
    "# Correlation betwenn columns\n",
    "plt.figure(figsize=[10,5])\n",
    "sns.heatmap(Train_df.corr(), vmax= 1, vmin= -1, annot= True, cmap= \"YlGnBu_r\")"
   ]
  },
  {
   "cell_type": "markdown",
   "id": "continental-investigation",
   "metadata": {
    "papermill": {
     "duration": 0.05343,
     "end_time": "2021-06-10T11:44:49.202007",
     "exception": false,
     "start_time": "2021-06-10T11:44:49.148577",
     "status": "completed"
    },
    "tags": []
   },
   "source": [
    " ` * From Above Correlation, Fare is one of the importent feature for Survival `"
   ]
  },
  {
   "cell_type": "code",
   "execution_count": 13,
   "id": "married-guide",
   "metadata": {
    "execution": {
     "iopub.execute_input": "2021-06-10T11:44:49.309175Z",
     "iopub.status.busy": "2021-06-10T11:44:49.307343Z",
     "iopub.status.idle": "2021-06-10T11:44:49.530012Z",
     "shell.execute_reply": "2021-06-10T11:44:49.530533Z",
     "shell.execute_reply.started": "2021-06-10T11:28:32.073192Z"
    },
    "papermill": {
     "duration": 0.279175,
     "end_time": "2021-06-10T11:44:49.530738",
     "exception": false,
     "start_time": "2021-06-10T11:44:49.251563",
     "status": "completed"
    },
    "tags": []
   },
   "outputs": [
    {
     "data": {
      "text/plain": [
       "<AxesSubplot:xlabel='Sex', ylabel='Survived'>"
      ]
     },
     "execution_count": 13,
     "metadata": {},
     "output_type": "execute_result"
    },
    {
     "data": {
      "image/png": "[encoded data removed]",
      "text/plain": [
       "<Figure size 432x288 with 1 Axes>"
      ]
     },
     "metadata": {},
     "output_type": "display_data"
    }
   ],
   "source": [
    "# Checking Sex wise Survival\n",
    "sns.barplot(Train_df[\"Sex\"],Train_df[\"Survived\"])"
   ]
  },
  {
   "cell_type": "markdown",
   "id": "equivalent-blond",
   "metadata": {
    "papermill": {
     "duration": 0.051523,
     "end_time": "2021-06-10T11:44:49.629735",
     "exception": false,
     "start_time": "2021-06-10T11:44:49.578212",
     "status": "completed"
    },
    "tags": []
   },
   "source": [
    "`* Female Passgers are survived more than male, M first priority ` "
   ]
  },
  {
   "cell_type": "code",
   "execution_count": 14,
   "id": "composed-myrtle",
   "metadata": {
    "execution": {
     "iopub.execute_input": "2021-06-10T11:44:49.742106Z",
     "iopub.status.busy": "2021-06-10T11:44:49.741151Z",
     "iopub.status.idle": "2021-06-10T11:44:50.012045Z",
     "shell.execute_reply": "2021-06-10T11:44:50.011118Z",
     "shell.execute_reply.started": "2021-06-10T11:28:32.292829Z"
    },
    "papermill": {
     "duration": 0.329748,
     "end_time": "2021-06-10T11:44:50.012227",
     "exception": false,
     "start_time": "2021-06-10T11:44:49.682479",
     "status": "completed"
    },
    "tags": []
   },
   "outputs": [
    {
     "data": {
      "text/plain": [
       "<AxesSubplot:xlabel='Embarked', ylabel='Survived'>"
      ]
     },
     "execution_count": 14,
     "metadata": {},
     "output_type": "execute_result"
    },
    {
     "data": {
      "image/png": "[encoded data removed]",
      "text/plain": [
       "<Figure size 432x288 with 1 Axes>"
      ]
     },
     "metadata": {},
     "output_type": "display_data"
    }
   ],
   "source": [
    "# Checking Embarked wise Survival\n",
    "sns.barplot(Train_df[\"Embarked\"],Train_df[\"Survived\"])"
   ]
  },
  {
   "cell_type": "markdown",
   "id": "raising-morrison",
   "metadata": {
    "papermill": {
     "duration": 0.055067,
     "end_time": "2021-06-10T11:44:50.119919",
     "exception": false,
     "start_time": "2021-06-10T11:44:50.064852",
     "status": "completed"
    },
    "tags": []
   },
   "source": [
    " `* C - Embarked Passngers are most survived than S and Q `"
   ]
  },
  {
   "cell_type": "code",
   "execution_count": 15,
   "id": "contained-potential",
   "metadata": {
    "execution": {
     "iopub.execute_input": "2021-06-10T11:44:50.241354Z",
     "iopub.status.busy": "2021-06-10T11:44:50.238644Z",
     "iopub.status.idle": "2021-06-10T11:44:50.511717Z",
     "shell.execute_reply": "2021-06-10T11:44:50.511155Z",
     "shell.execute_reply.started": "2021-06-10T11:28:32.543608Z"
    },
    "papermill": {
     "duration": 0.337648,
     "end_time": "2021-06-10T11:44:50.511873",
     "exception": false,
     "start_time": "2021-06-10T11:44:50.174225",
     "status": "completed"
    },
    "tags": []
   },
   "outputs": [
    {
     "data": {
      "text/plain": [
       "<AxesSubplot:xlabel='Pclass', ylabel='Survived'>"
      ]
     },
     "execution_count": 15,
     "metadata": {},
     "output_type": "execute_result"
    },
    {
     "data": {
      "image/png": "[encoded data removed]",
      "text/plain": [
       "<Figure size 432x288 with 1 Axes>"
      ]
     },
     "metadata": {},
     "output_type": "display_data"
    }
   ],
   "source": [
    "# Checking Sex wise Survival\n",
    "sns.barplot(Train_df[\"Pclass\"],Train_df[\"Survived\"])"
   ]
  },
  {
   "cell_type": "markdown",
   "id": "organic-filing",
   "metadata": {
    "papermill": {
     "duration": 0.052774,
     "end_time": "2021-06-10T11:44:50.620390",
     "exception": false,
     "start_time": "2021-06-10T11:44:50.567616",
     "status": "completed"
    },
    "tags": []
   },
   "source": [
    "` * Pclass - 3 has lesser chance to survival "
   ]
  },
  {
   "cell_type": "code",
   "execution_count": 16,
   "id": "institutional-newspaper",
   "metadata": {
    "execution": {
     "iopub.execute_input": "2021-06-10T11:44:50.734827Z",
     "iopub.status.busy": "2021-06-10T11:44:50.733700Z",
     "iopub.status.idle": "2021-06-10T11:44:51.170036Z",
     "shell.execute_reply": "2021-06-10T11:44:51.169166Z",
     "shell.execute_reply.started": "2021-06-10T11:28:32.802739Z"
    },
    "papermill": {
     "duration": 0.499485,
     "end_time": "2021-06-10T11:44:51.170201",
     "exception": false,
     "start_time": "2021-06-10T11:44:50.670716",
     "status": "completed"
    },
    "tags": []
   },
   "outputs": [
    {
     "data": {
      "text/plain": [
       "<AxesSubplot:xlabel='Parch', ylabel='Survived'>"
      ]
     },
     "execution_count": 16,
     "metadata": {},
     "output_type": "execute_result"
    },
    {
     "data": {
      "image/png": "[encoded data removed]",
      "text/plain": [
       "<Figure size 432x288 with 1 Axes>"
      ]
     },
     "metadata": {},
     "output_type": "display_data"
    }
   ],
   "source": [
    "# Checking Parch wise Survival\n",
    "sns.barplot(Train_df[\"Parch\"],Train_df[\"Survived\"])"
   ]
  },
  {
   "cell_type": "markdown",
   "id": "placed-official",
   "metadata": {
    "papermill": {
     "duration": 0.051999,
     "end_time": "2021-06-10T11:44:51.277466",
     "exception": false,
     "start_time": "2021-06-10T11:44:51.225467",
     "status": "completed"
    },
    "tags": []
   },
   "source": [
    " `* More than 3 Children's having family survival is very less`"
   ]
  },
  {
   "cell_type": "code",
   "execution_count": 17,
   "id": "psychological-retirement",
   "metadata": {
    "execution": {
     "iopub.execute_input": "2021-06-10T11:44:51.395204Z",
     "iopub.status.busy": "2021-06-10T11:44:51.392705Z",
     "iopub.status.idle": "2021-06-10T11:44:51.859481Z",
     "shell.execute_reply": "2021-06-10T11:44:51.858788Z",
     "shell.execute_reply.started": "2021-06-10T11:28:33.190723Z"
    },
    "papermill": {
     "duration": 0.528295,
     "end_time": "2021-06-10T11:44:51.859647",
     "exception": false,
     "start_time": "2021-06-10T11:44:51.331352",
     "status": "completed"
    },
    "tags": []
   },
   "outputs": [
    {
     "data": {
      "text/plain": [
       "<AxesSubplot:xlabel='SibSp', ylabel='Survived'>"
      ]
     },
     "execution_count": 17,
     "metadata": {},
     "output_type": "execute_result"
    },
    {
     "data": {
      "image/png": "[encoded data removed]",
      "text/plain": [
       "<Figure size 432x288 with 1 Axes>"
      ]
     },
     "metadata": {},
     "output_type": "display_data"
    }
   ],
   "source": [
    "# Checking SibSP wise Survival\n",
    "sns.barplot(Train_df[\"SibSp\"],Train_df[\"Survived\"])"
   ]
  },
  {
   "cell_type": "markdown",
   "id": "recovered-grace",
   "metadata": {
    "papermill": {
     "duration": 0.060885,
     "end_time": "2021-06-10T11:44:51.973102",
     "exception": false,
     "start_time": "2021-06-10T11:44:51.912217",
     "status": "completed"
    },
    "tags": []
   },
   "source": [
    "` * Higer Siblings has lesser survival count`"
   ]
  },
  {
   "cell_type": "code",
   "execution_count": 18,
   "id": "innocent-avatar",
   "metadata": {
    "execution": {
     "iopub.execute_input": "2021-06-10T11:44:52.107035Z",
     "iopub.status.busy": "2021-06-10T11:44:52.104392Z",
     "iopub.status.idle": "2021-06-10T11:44:52.270385Z",
     "shell.execute_reply": "2021-06-10T11:44:52.269613Z",
     "shell.execute_reply.started": "2021-06-10T11:28:33.619082Z"
    },
    "papermill": {
     "duration": 0.244006,
     "end_time": "2021-06-10T11:44:52.270588",
     "exception": false,
     "start_time": "2021-06-10T11:44:52.026582",
     "status": "completed"
    },
    "tags": []
   },
   "outputs": [
    {
     "data": {
      "text/plain": [
       "<AxesSubplot:xlabel='Fare'>"
      ]
     },
     "execution_count": 18,
     "metadata": {},
     "output_type": "execute_result"
    },
    {
     "data": {
      "image/png": "[encoded data removed]",
      "text/plain": [
       "<Figure size 432x288 with 1 Axes>"
      ]
     },
     "metadata": {},
     "output_type": "display_data"
    }
   ],
   "source": [
    "# Fare Box Plot \n",
    "\n",
    "sns.boxplot(Train_df[\"Fare\"])"
   ]
  },
  {
   "cell_type": "markdown",
   "id": "operational-mustang",
   "metadata": {
    "papermill": {
     "duration": 0.055338,
     "end_time": "2021-06-10T11:44:52.379660",
     "exception": false,
     "start_time": "2021-06-10T11:44:52.324322",
     "status": "completed"
    },
    "tags": []
   },
   "source": [
    "`* Fare has outliers which needs to be taken care in the same time fare also correlated with Survaival so, we cant throw away those outliers blindly` "
   ]
  },
  {
   "cell_type": "code",
   "execution_count": 19,
   "id": "genuine-worker",
   "metadata": {
    "execution": {
     "iopub.execute_input": "2021-06-10T11:44:52.504011Z",
     "iopub.status.busy": "2021-06-10T11:44:52.502631Z",
     "iopub.status.idle": "2021-06-10T11:44:52.512148Z",
     "shell.execute_reply": "2021-06-10T11:44:52.511506Z",
     "shell.execute_reply.started": "2021-06-10T11:28:33.773607Z"
    },
    "papermill": {
     "duration": 0.07433,
     "end_time": "2021-06-10T11:44:52.512321",
     "exception": false,
     "start_time": "2021-06-10T11:44:52.437991",
     "status": "completed"
    },
    "tags": []
   },
   "outputs": [],
   "source": [
    "# Replacing Ticket fare more than 60 to 60\n",
    "Train_df['Fare'] = Train_df['Fare'].replace([Train_df['Fare'].iloc[Train_df['Fare'].values >= 60]], 60)\n",
    "Test_df['Fare'] = Test_df['Fare'].replace([Test_df['Fare'].iloc[Test_df['Fare'].values >= 60]], 60)"
   ]
  },
  {
   "cell_type": "code",
   "execution_count": 20,
   "id": "excited-arthur",
   "metadata": {
    "execution": {
     "iopub.execute_input": "2021-06-10T11:44:52.653832Z",
     "iopub.status.busy": "2021-06-10T11:44:52.652206Z",
     "iopub.status.idle": "2021-06-10T11:44:52.817226Z",
     "shell.execute_reply": "2021-06-10T11:44:52.816649Z",
     "shell.execute_reply.started": "2021-06-10T11:28:33.784623Z"
    },
    "papermill": {
     "duration": 0.247036,
     "end_time": "2021-06-10T11:44:52.817366",
     "exception": false,
     "start_time": "2021-06-10T11:44:52.570330",
     "status": "completed"
    },
    "tags": []
   },
   "outputs": [
    {
     "data": {
      "text/plain": [
       "<AxesSubplot:xlabel='Fare'>"
      ]
     },
     "execution_count": 20,
     "metadata": {},
     "output_type": "execute_result"
    },
    {
     "data": {
      "image/png": "[encoded data removed]",
      "text/plain": [
       "<Figure size 432x288 with 1 Axes>"
      ]
     },
     "metadata": {},
     "output_type": "display_data"
    }
   ],
   "source": [
    "sns.boxplot(Train_df[\"Fare\"])"
   ]
  },
  {
   "cell_type": "code",
   "execution_count": 21,
   "id": "personal-container",
   "metadata": {
    "execution": {
     "iopub.execute_input": "2021-06-10T11:44:52.957174Z",
     "iopub.status.busy": "2021-06-10T11:44:52.956307Z",
     "iopub.status.idle": "2021-06-10T11:44:53.226703Z",
     "shell.execute_reply": "2021-06-10T11:44:53.226008Z",
     "shell.execute_reply.started": "2021-06-10T11:28:33.956204Z"
    },
    "papermill": {
     "duration": 0.353895,
     "end_time": "2021-06-10T11:44:53.226853",
     "exception": false,
     "start_time": "2021-06-10T11:44:52.872958",
     "status": "completed"
    },
    "tags": []
   },
   "outputs": [
    {
     "data": {
      "text/plain": [
       "<AxesSubplot:xlabel='Age', ylabel='Count'>"
      ]
     },
     "execution_count": 21,
     "metadata": {},
     "output_type": "execute_result"
    },
    {
     "data": {
      "image/png": "[encoded data removed]",
      "text/plain": [
       "<Figure size 432x288 with 1 Axes>"
      ]
     },
     "metadata": {},
     "output_type": "display_data"
    }
   ],
   "source": [
    "# Age Plot\n",
    "\n",
    "sns.histplot(Train_df[\"Age\"])"
   ]
  },
  {
   "cell_type": "markdown",
   "id": "preliminary-cosmetic",
   "metadata": {
    "papermill": {
     "duration": 0.055776,
     "end_time": "2021-06-10T11:44:53.341022",
     "exception": false,
     "start_time": "2021-06-10T11:44:53.285246",
     "status": "completed"
    },
    "tags": []
   },
   "source": [
    "`* Note : we need to take care of the Missing Values `"
   ]
  },
  {
   "cell_type": "markdown",
   "id": "ecological-renaissance",
   "metadata": {
    "papermill": {
     "duration": 0.056875,
     "end_time": "2021-06-10T11:44:53.455082",
     "exception": false,
     "start_time": "2021-06-10T11:44:53.398207",
     "status": "completed"
    },
    "tags": []
   },
   "source": [
    "## `Feature Engineering`"
   ]
  },
  {
   "cell_type": "code",
   "execution_count": 22,
   "id": "final-relationship",
   "metadata": {
    "execution": {
     "iopub.execute_input": "2021-06-10T11:44:53.575909Z",
     "iopub.status.busy": "2021-06-10T11:44:53.574967Z",
     "iopub.status.idle": "2021-06-10T11:44:53.579744Z",
     "shell.execute_reply": "2021-06-10T11:44:53.579111Z",
     "shell.execute_reply.started": "2021-06-10T11:28:34.209078Z"
    },
    "papermill": {
     "duration": 0.068735,
     "end_time": "2021-06-10T11:44:53.579886",
     "exception": false,
     "start_time": "2021-06-10T11:44:53.511151",
     "status": "completed"
    },
    "tags": []
   },
   "outputs": [
    {
     "data": {
      "text/plain": [
       "0            A/5 21171\n",
       "1             PC 17599\n",
       "2     STON/O2. 3101282\n",
       "3               113803\n",
       "4               373450\n",
       "5               330877\n",
       "6                17463\n",
       "7               349909\n",
       "8               347742\n",
       "9               237736\n",
       "10             PP 9549\n",
       "11              113783\n",
       "12           A/5. 2151\n",
       "13              347082\n",
       "14              350406\n",
       "15              248706\n",
       "16              382652\n",
       "17              244373\n",
       "18              345763\n",
       "19                2649\n",
       "20              239865\n",
       "21              248698\n",
       "22              330923\n",
       "23              113788\n",
       "24              349909\n",
       "25              347077\n",
       "26                2631\n",
       "27               19950\n",
       "28              330959\n",
       "29              349216\n",
       "Name: Ticket, dtype: object"
      ]
     },
     "execution_count": 22,
     "metadata": {},
     "output_type": "execute_result"
    }
   ],
   "source": [
    "Train_df.Ticket.head(30)"
   ]
  },
  {
   "cell_type": "code",
   "execution_count": 23,
   "id": "careful-sterling",
   "metadata": {
    "execution": {
     "iopub.execute_input": "2021-06-10T11:44:53.698691Z",
     "iopub.status.busy": "2021-06-10T11:44:53.697649Z",
     "iopub.status.idle": "2021-06-10T11:44:53.701192Z",
     "shell.execute_reply": "2021-06-10T11:44:53.700485Z",
     "shell.execute_reply.started": "2021-06-10T11:28:34.218541Z"
    },
    "papermill": {
     "duration": 0.066689,
     "end_time": "2021-06-10T11:44:53.701336",
     "exception": false,
     "start_time": "2021-06-10T11:44:53.634647",
     "status": "completed"
    },
    "tags": []
   },
   "outputs": [],
   "source": [
    "# We need to remove the String Values in the ticket\n",
    "Values = Train_df['Ticket']\n",
    "Ticket =[]\n",
    "for x in Values:\n",
    "    if not x.isdigit():\n",
    "        if x ==\"LINE\":\n",
    "            Ticket.append(0)\n",
    "        else:  \n",
    "            Ticket.append(x.split(\" \")[-1])\n",
    "    else:\n",
    "        Ticket.append(x)\n",
    "Train_df['Ticket'] = Ticket"
   ]
  },
  {
   "cell_type": "code",
   "execution_count": 24,
   "id": "alternate-cycle",
   "metadata": {
    "execution": {
     "iopub.execute_input": "2021-06-10T11:44:53.823393Z",
     "iopub.status.busy": "2021-06-10T11:44:53.822680Z",
     "iopub.status.idle": "2021-06-10T11:44:53.825962Z",
     "shell.execute_reply": "2021-06-10T11:44:53.825296Z",
     "shell.execute_reply.started": "2021-06-10T11:28:34.231144Z"
    },
    "papermill": {
     "duration": 0.067395,
     "end_time": "2021-06-10T11:44:53.826122",
     "exception": false,
     "start_time": "2021-06-10T11:44:53.758727",
     "status": "completed"
    },
    "tags": []
   },
   "outputs": [],
   "source": [
    "Values = Test_df['Ticket']\n",
    "Ticket =[]\n",
    "for x in Values:\n",
    "    if not x.isdigit():\n",
    "        if x ==\"LINE\":\n",
    "            Ticket.append(0)\n",
    "        else:  \n",
    "            Ticket.append(x.split(\" \")[-1])\n",
    "    else:\n",
    "        Ticket.append(x)\n",
    "Test_df['Ticket'] = Ticket"
   ]
  },
  {
   "cell_type": "code",
   "execution_count": 25,
   "id": "loose-discretion",
   "metadata": {
    "execution": {
     "iopub.execute_input": "2021-06-10T11:44:53.947297Z",
     "iopub.status.busy": "2021-06-10T11:44:53.946524Z",
     "iopub.status.idle": "2021-06-10T11:44:53.950273Z",
     "shell.execute_reply": "2021-06-10T11:44:53.949572Z",
     "shell.execute_reply.started": "2021-06-10T11:28:34.243615Z"
    },
    "papermill": {
     "duration": 0.069459,
     "end_time": "2021-06-10T11:44:53.950452",
     "exception": false,
     "start_time": "2021-06-10T11:44:53.880993",
     "status": "completed"
    },
    "tags": []
   },
   "outputs": [],
   "source": [
    "\n",
    "Train_df['Ticket'] = Train_df['Ticket'].astype(int)\n",
    "Test_df['Ticket'] = Test_df['Ticket'].astype(int)"
   ]
  },
  {
   "cell_type": "code",
   "execution_count": 26,
   "id": "unavailable-champagne",
   "metadata": {
    "execution": {
     "iopub.execute_input": "2021-06-10T11:44:54.073552Z",
     "iopub.status.busy": "2021-06-10T11:44:54.072806Z",
     "iopub.status.idle": "2021-06-10T11:44:54.076588Z",
     "shell.execute_reply": "2021-06-10T11:44:54.075985Z",
     "shell.execute_reply.started": "2021-06-10T11:28:34.257067Z"
    },
    "papermill": {
     "duration": 0.068821,
     "end_time": "2021-06-10T11:44:54.076750",
     "exception": false,
     "start_time": "2021-06-10T11:44:54.007929",
     "status": "completed"
    },
    "tags": []
   },
   "outputs": [],
   "source": [
    "# Working on Name\n",
    "Train_Name = Train_df['Name']\n",
    "Test_name = Test_df['Name']\n",
    "Train_df['Name'] = [x.split(\" \")[1] for x in Train_Name]\n",
    "Test_df['Name'] =  [x.split(\" \")[1] for x in Test_name]"
   ]
  },
  {
   "cell_type": "code",
   "execution_count": 27,
   "id": "continental-cotton",
   "metadata": {
    "execution": {
     "iopub.execute_input": "2021-06-10T11:44:54.197154Z",
     "iopub.status.busy": "2021-06-10T11:44:54.196196Z",
     "iopub.status.idle": "2021-06-10T11:44:54.203784Z",
     "shell.execute_reply": "2021-06-10T11:44:54.202877Z",
     "shell.execute_reply.started": "2021-06-10T11:28:34.271874Z"
    },
    "papermill": {
     "duration": 0.070921,
     "end_time": "2021-06-10T11:44:54.203991",
     "exception": false,
     "start_time": "2021-06-10T11:44:54.133070",
     "status": "completed"
    },
    "tags": []
   },
   "outputs": [
    {
     "data": {
      "text/plain": [
       "(31, 16)"
      ]
     },
     "execution_count": 27,
     "metadata": {},
     "output_type": "execute_result"
    }
   ],
   "source": [
    "len(Train_df['Name'].value_counts()),len(Test_df['Name'].value_counts())"
   ]
  },
  {
   "cell_type": "code",
   "execution_count": 28,
   "id": "indian-newsletter",
   "metadata": {
    "execution": {
     "iopub.execute_input": "2021-06-10T11:44:54.320400Z",
     "iopub.status.busy": "2021-06-10T11:44:54.319776Z",
     "iopub.status.idle": "2021-06-10T11:44:54.327104Z",
     "shell.execute_reply": "2021-06-10T11:44:54.326473Z",
     "shell.execute_reply.started": "2021-06-10T11:28:34.282836Z"
    },
    "papermill": {
     "duration": 0.065837,
     "end_time": "2021-06-10T11:44:54.327243",
     "exception": false,
     "start_time": "2021-06-10T11:44:54.261406",
     "status": "completed"
    },
    "tags": []
   },
   "outputs": [
    {
     "data": {
      "text/plain": [
       "(array(['Mr.', 'Mrs.', 'Miss.', 'Master.', 'Planke,', 'Don.', 'Rev.',\n",
       "        'Billiard,', 'der', 'Walle,', 'Dr.', 'Pelsmaeker,', 'Mulder,', 'y',\n",
       "        'Steen,', 'Carlo,', 'Mme.', 'Impe,', 'Ms.', 'Major.', 'Gordon,',\n",
       "        'Messemaeker,', 'Mlle.', 'Col.', 'Capt.', 'Velde,', 'the',\n",
       "        'Shawah,', 'Jonkheer.', 'Melkebeke,', 'Cruyssen,'], dtype=object),\n",
       " array(['Mr.', 'Mrs.', 'Miss.', 'Carlo,', 'Khalil,', 'Master.', 'y', 'Ms.',\n",
       "        'Palmquist,', 'Col.', 'Planke,', 'Rev.', 'Billiard,',\n",
       "        'Messemaeker,', 'Dr.', 'Brito,'], dtype=object))"
      ]
     },
     "execution_count": 28,
     "metadata": {},
     "output_type": "execute_result"
    }
   ],
   "source": [
    "Train_df['Name'].unique(), Test_df['Name'].unique()"
   ]
  },
  {
   "cell_type": "markdown",
   "id": "rubber-nomination",
   "metadata": {
    "papermill": {
     "duration": 0.058855,
     "end_time": "2021-06-10T11:44:54.444167",
     "exception": false,
     "start_time": "2021-06-10T11:44:54.385312",
     "status": "completed"
    },
    "tags": []
   },
   "source": [
    "`* From Above title we cant add much value to the analysis as test and train title are diffrent \n",
    "also we alreday found that Feamle passengers has high survival ratio`"
   ]
  },
  {
   "cell_type": "code",
   "execution_count": 29,
   "id": "upset-designer",
   "metadata": {
    "execution": {
     "iopub.execute_input": "2021-06-10T11:44:54.587572Z",
     "iopub.status.busy": "2021-06-10T11:44:54.586813Z",
     "iopub.status.idle": "2021-06-10T11:44:54.613220Z",
     "shell.execute_reply": "2021-06-10T11:44:54.612628Z",
     "shell.execute_reply.started": "2021-06-10T11:28:34.297562Z"
    },
    "papermill": {
     "duration": 0.098791,
     "end_time": "2021-06-10T11:44:54.613398",
     "exception": false,
     "start_time": "2021-06-10T11:44:54.514607",
     "status": "completed"
    },
    "tags": []
   },
   "outputs": [
    {
     "name": "stdout",
     "output_type": "stream",
     "text": [
      "<class 'pandas.core.frame.DataFrame'>\n",
      "RangeIndex: 891 entries, 0 to 890\n",
      "Data columns (total 12 columns):\n",
      " #   Column       Non-Null Count  Dtype  \n",
      "---  ------       --------------  -----  \n",
      " 0   PassengerId  891 non-null    int64  \n",
      " 1   Survived     891 non-null    int64  \n",
      " 2   Pclass       891 non-null    int64  \n",
      " 3   Name         891 non-null    object \n",
      " 4   Sex          891 non-null    object \n",
      " 5   Age          714 non-null    float64\n",
      " 6   SibSp        891 non-null    int64  \n",
      " 7   Parch        891 non-null    int64  \n",
      " 8   Ticket       891 non-null    int64  \n",
      " 9   Fare         891 non-null    float64\n",
      " 10  Cabin        204 non-null    object \n",
      " 11  Embarked     889 non-null    object \n",
      "dtypes: float64(2), int64(6), object(4)\n",
      "memory usage: 83.7+ KB\n"
     ]
    }
   ],
   "source": [
    "Train_df.info()"
   ]
  },
  {
   "cell_type": "code",
   "execution_count": 30,
   "id": "supposed-prefix",
   "metadata": {
    "execution": {
     "iopub.execute_input": "2021-06-10T11:44:54.755280Z",
     "iopub.status.busy": "2021-06-10T11:44:54.753426Z",
     "iopub.status.idle": "2021-06-10T11:44:54.758320Z",
     "shell.execute_reply": "2021-06-10T11:44:54.758871Z",
     "shell.execute_reply.started": "2021-06-10T11:28:34.317962Z"
    },
    "papermill": {
     "duration": 0.080107,
     "end_time": "2021-06-10T11:44:54.759114",
     "exception": false,
     "start_time": "2021-06-10T11:44:54.679007",
     "status": "completed"
    },
    "tags": []
   },
   "outputs": [],
   "source": [
    "# Dropping Cabin and Name Columns\n",
    "\n",
    "X = Train_df.drop(['Name','Cabin'], axis=1)\n",
    "Sub_test = Test_df.drop(['Name','Cabin'], axis=1)"
   ]
  },
  {
   "cell_type": "code",
   "execution_count": 31,
   "id": "organized-sender",
   "metadata": {
    "execution": {
     "iopub.execute_input": "2021-06-10T11:44:54.893247Z",
     "iopub.status.busy": "2021-06-10T11:44:54.892352Z",
     "iopub.status.idle": "2021-06-10T11:44:54.895961Z",
     "shell.execute_reply": "2021-06-10T11:44:54.896663Z",
     "shell.execute_reply.started": "2021-06-10T11:28:34.331820Z"
    },
    "papermill": {
     "duration": 0.06859,
     "end_time": "2021-06-10T11:44:54.896860",
     "exception": false,
     "start_time": "2021-06-10T11:44:54.828270",
     "status": "completed"
    },
    "tags": []
   },
   "outputs": [
    {
     "data": {
      "text/plain": [
       "((891, 10), (418, 9))"
      ]
     },
     "execution_count": 31,
     "metadata": {},
     "output_type": "execute_result"
    }
   ],
   "source": [
    "X.shape,Sub_test.shape"
   ]
  },
  {
   "cell_type": "code",
   "execution_count": 32,
   "id": "developing-flood",
   "metadata": {
    "execution": {
     "iopub.execute_input": "2021-06-10T11:44:55.079150Z",
     "iopub.status.busy": "2021-06-10T11:44:55.077965Z",
     "iopub.status.idle": "2021-06-10T11:44:55.087120Z",
     "shell.execute_reply": "2021-06-10T11:44:55.087825Z",
     "shell.execute_reply.started": "2021-06-10T11:28:34.346248Z"
    },
    "papermill": {
     "duration": 0.118042,
     "end_time": "2021-06-10T11:44:55.088099",
     "exception": false,
     "start_time": "2021-06-10T11:44:54.970057",
     "status": "completed"
    },
    "tags": []
   },
   "outputs": [
    {
     "data": {
      "text/plain": [
       "['Sex', 'Embarked']"
      ]
     },
     "execution_count": 32,
     "metadata": {},
     "output_type": "execute_result"
    }
   ],
   "source": [
    "# Encoding Lables\n",
    "Cat_columns = list(X.dtypes[X.dtypes == \"object\"].index)\n",
    "Cat_columns\n"
   ]
  },
  {
   "cell_type": "code",
   "execution_count": 33,
   "id": "warming-russell",
   "metadata": {
    "execution": {
     "iopub.execute_input": "2021-06-10T11:44:55.230962Z",
     "iopub.status.busy": "2021-06-10T11:44:55.230168Z",
     "iopub.status.idle": "2021-06-10T11:44:55.240804Z",
     "shell.execute_reply": "2021-06-10T11:44:55.241369Z",
     "shell.execute_reply.started": "2021-06-10T11:28:34.363857Z"
    },
    "papermill": {
     "duration": 0.086367,
     "end_time": "2021-06-10T11:44:55.241578",
     "exception": false,
     "start_time": "2021-06-10T11:44:55.155211",
     "status": "completed"
    },
    "tags": []
   },
   "outputs": [],
   "source": [
    "LC = LabelEncoder()\n",
    "for x in Cat_columns:\n",
    "    X[x] = LC.fit_transform(X[x])\n",
    "    Sub_test[x] = LC.fit_transform(Sub_test[x])\n"
   ]
  },
  {
   "cell_type": "code",
   "execution_count": 34,
   "id": "unlikely-renaissance",
   "metadata": {
    "execution": {
     "iopub.execute_input": "2021-06-10T11:44:55.379973Z",
     "iopub.status.busy": "2021-06-10T11:44:55.373617Z",
     "iopub.status.idle": "2021-06-10T11:44:55.383973Z",
     "shell.execute_reply": "2021-06-10T11:44:55.384554Z",
     "shell.execute_reply.started": "2021-06-10T11:28:34.375628Z"
    },
    "papermill": {
     "duration": 0.080445,
     "end_time": "2021-06-10T11:44:55.384776",
     "exception": false,
     "start_time": "2021-06-10T11:44:55.304331",
     "status": "completed"
    },
    "tags": []
   },
   "outputs": [
    {
     "name": "stdout",
     "output_type": "stream",
     "text": [
      "<class 'pandas.core.frame.DataFrame'>\n",
      "RangeIndex: 891 entries, 0 to 890\n",
      "Data columns (total 10 columns):\n",
      " #   Column       Non-Null Count  Dtype  \n",
      "---  ------       --------------  -----  \n",
      " 0   PassengerId  891 non-null    int64  \n",
      " 1   Survived     891 non-null    int64  \n",
      " 2   Pclass       891 non-null    int64  \n",
      " 3   Sex          891 non-null    int64  \n",
      " 4   Age          714 non-null    float64\n",
      " 5   SibSp        891 non-null    int64  \n",
      " 6   Parch        891 non-null    int64  \n",
      " 7   Ticket       891 non-null    int64  \n",
      " 8   Fare         891 non-null    float64\n",
      " 9   Embarked     891 non-null    int64  \n",
      "dtypes: float64(2), int64(8)\n",
      "memory usage: 69.7 KB\n"
     ]
    }
   ],
   "source": [
    "X.info()"
   ]
  },
  {
   "cell_type": "code",
   "execution_count": 35,
   "id": "fossil-destruction",
   "metadata": {
    "execution": {
     "iopub.execute_input": "2021-06-10T11:44:55.529118Z",
     "iopub.status.busy": "2021-06-10T11:44:55.523140Z",
     "iopub.status.idle": "2021-06-10T11:44:55.532569Z",
     "shell.execute_reply": "2021-06-10T11:44:55.531949Z",
     "shell.execute_reply.started": "2021-06-10T11:28:34.396812Z"
    },
    "papermill": {
     "duration": 0.083145,
     "end_time": "2021-06-10T11:44:55.532726",
     "exception": false,
     "start_time": "2021-06-10T11:44:55.449581",
     "status": "completed"
    },
    "tags": []
   },
   "outputs": [],
   "source": [
    "# Imputing Age \n",
    "\n",
    "data = [X, Sub_test]\n",
    "for dataset in data:\n",
    "    mean = X[\"Age\"].mean()\n",
    "    std = Sub_test[\"Age\"].std()\n",
    "    is_null = dataset[\"Age\"].isnull().sum()\n",
    "    # Random No generator\n",
    "    rand_age = np.random.randint(mean - std, mean + std, size = is_null)\n",
    "    # Imputing missing Values\n",
    "    age_slice = dataset[\"Age\"].copy()\n",
    "    age_slice[np.isnan(age_slice)] = rand_age\n",
    "    dataset[\"Age\"] = age_slice\n",
    "    dataset[\"Age\"] = X[\"Age\"].astype(int)"
   ]
  },
  {
   "cell_type": "code",
   "execution_count": 36,
   "id": "unknown-sugar",
   "metadata": {
    "execution": {
     "iopub.execute_input": "2021-06-10T11:44:55.662076Z",
     "iopub.status.busy": "2021-06-10T11:44:55.661092Z",
     "iopub.status.idle": "2021-06-10T11:44:55.666604Z",
     "shell.execute_reply": "2021-06-10T11:44:55.665984Z",
     "shell.execute_reply.started": "2021-06-10T11:28:34.418017Z"
    },
    "papermill": {
     "duration": 0.074691,
     "end_time": "2021-06-10T11:44:55.666794",
     "exception": false,
     "start_time": "2021-06-10T11:44:55.592103",
     "status": "completed"
    },
    "tags": []
   },
   "outputs": [
    {
     "data": {
      "text/plain": [
       "PassengerId    0.0\n",
       "Survived       0.0\n",
       "Pclass         0.0\n",
       "Sex            0.0\n",
       "Age            0.0\n",
       "SibSp          0.0\n",
       "Parch          0.0\n",
       "Ticket         0.0\n",
       "Fare           0.0\n",
       "Embarked       0.0\n",
       "dtype: float64"
      ]
     },
     "execution_count": 36,
     "metadata": {},
     "output_type": "execute_result"
    }
   ],
   "source": [
    "X.isnull().sum()/len(X)*100"
   ]
  },
  {
   "cell_type": "markdown",
   "id": "alive-breach",
   "metadata": {
    "execution": {
     "iopub.status.busy": "2021-06-10T10:25:22.130472Z",
     "iopub.status.idle": "2021-06-10T10:25:22.130889Z"
    },
    "papermill": {
     "duration": 0.060418,
     "end_time": "2021-06-10T11:44:55.787924",
     "exception": false,
     "start_time": "2021-06-10T11:44:55.727506",
     "status": "completed"
    },
    "tags": []
   },
   "source": [
    "## `Modeling`"
   ]
  },
  {
   "cell_type": "code",
   "execution_count": 37,
   "id": "professional-basket",
   "metadata": {
    "execution": {
     "iopub.execute_input": "2021-06-10T11:44:55.915603Z",
     "iopub.status.busy": "2021-06-10T11:44:55.914849Z",
     "iopub.status.idle": "2021-06-10T11:44:55.917708Z",
     "shell.execute_reply": "2021-06-10T11:44:55.916986Z",
     "shell.execute_reply.started": "2021-06-10T11:28:34.430752Z"
    },
    "papermill": {
     "duration": 0.069002,
     "end_time": "2021-06-10T11:44:55.917870",
     "exception": false,
     "start_time": "2021-06-10T11:44:55.848868",
     "status": "completed"
    },
    "tags": []
   },
   "outputs": [],
   "source": [
    "# Taking out the Y from X\n",
    "y = X.pop('Survived')"
   ]
  },
  {
   "cell_type": "code",
   "execution_count": 38,
   "id": "genetic-pollution",
   "metadata": {
    "execution": {
     "iopub.execute_input": "2021-06-10T11:44:56.044074Z",
     "iopub.status.busy": "2021-06-10T11:44:56.043281Z",
     "iopub.status.idle": "2021-06-10T11:44:56.046636Z",
     "shell.execute_reply": "2021-06-10T11:44:56.047290Z",
     "shell.execute_reply.started": "2021-06-10T11:28:34.437929Z"
    },
    "papermill": {
     "duration": 0.070015,
     "end_time": "2021-06-10T11:44:56.047523",
     "exception": false,
     "start_time": "2021-06-10T11:44:55.977508",
     "status": "completed"
    },
    "tags": []
   },
   "outputs": [
    {
     "data": {
      "text/plain": [
       "((891, 9), (891,))"
      ]
     },
     "execution_count": 38,
     "metadata": {},
     "output_type": "execute_result"
    }
   ],
   "source": [
    "X.shape, y.shape"
   ]
  },
  {
   "cell_type": "code",
   "execution_count": 39,
   "id": "conceptual-diving",
   "metadata": {
    "execution": {
     "iopub.execute_input": "2021-06-10T11:44:56.177430Z",
     "iopub.status.busy": "2021-06-10T11:44:56.176283Z",
     "iopub.status.idle": "2021-06-10T11:44:56.255043Z",
     "shell.execute_reply": "2021-06-10T11:44:56.254487Z",
     "shell.execute_reply.started": "2021-06-10T11:28:34.449084Z"
    },
    "papermill": {
     "duration": 0.148579,
     "end_time": "2021-06-10T11:44:56.255187",
     "exception": false,
     "start_time": "2021-06-10T11:44:56.106608",
     "status": "completed"
    },
    "tags": []
   },
   "outputs": [
    {
     "data": {
      "text/plain": [
       "0.6757677902621723"
      ]
     },
     "execution_count": 39,
     "metadata": {},
     "output_type": "execute_result"
    }
   ],
   "source": [
    "# Trying out Naive Bayes\n",
    "nb = GaussianNB()\n",
    "nb.fit(X,y)\n",
    "cross_val_score(nb, X,y, cv=10).mean()"
   ]
  },
  {
   "cell_type": "code",
   "execution_count": 40,
   "id": "compact-phoenix",
   "metadata": {
    "execution": {
     "iopub.execute_input": "2021-06-10T11:44:56.380587Z",
     "iopub.status.busy": "2021-06-10T11:44:56.379871Z",
     "iopub.status.idle": "2021-06-10T11:44:56.486407Z",
     "shell.execute_reply": "2021-06-10T11:44:56.485870Z",
     "shell.execute_reply.started": "2021-06-10T11:28:34.521038Z"
    },
    "papermill": {
     "duration": 0.172868,
     "end_time": "2021-06-10T11:44:56.486593",
     "exception": false,
     "start_time": "2021-06-10T11:44:56.313725",
     "status": "completed"
    },
    "tags": []
   },
   "outputs": [
    {
     "data": {
      "text/plain": [
       "0.7452184769038702"
      ]
     },
     "execution_count": 40,
     "metadata": {},
     "output_type": "execute_result"
    }
   ],
   "source": [
    "# Trying out Decision Tree\n",
    "dt = DecisionTreeClassifier(random_state=seed)\n",
    "dt.fit(X,y)\n",
    "cross_val_score(dt, X,y,cv = 10 ).mean()"
   ]
  },
  {
   "cell_type": "code",
   "execution_count": 41,
   "id": "initial-airfare",
   "metadata": {
    "execution": {
     "iopub.execute_input": "2021-06-10T11:44:56.619096Z",
     "iopub.status.busy": "2021-06-10T11:44:56.613192Z",
     "iopub.status.idle": "2021-06-10T11:45:01.101925Z",
     "shell.execute_reply": "2021-06-10T11:45:01.101292Z",
     "shell.execute_reply.started": "2021-06-10T11:28:34.617809Z"
    },
    "papermill": {
     "duration": 4.556675,
     "end_time": "2021-06-10T11:45:01.102074",
     "exception": false,
     "start_time": "2021-06-10T11:44:56.545399",
     "status": "completed"
    },
    "tags": []
   },
   "outputs": [
    {
     "data": {
      "text/plain": [
       "0.8329378531073446"
      ]
     },
     "execution_count": 41,
     "metadata": {},
     "output_type": "execute_result"
    }
   ],
   "source": [
    "# Trying out RandomForest\n",
    "rf = RandomForestClassifier(random_state=seed)\n",
    "rf.fit(X,y)\n",
    "cross_val_score(rf, X,y, cv=15).mean()"
   ]
  },
  {
   "cell_type": "markdown",
   "id": "promotional-thread",
   "metadata": {
    "papermill": {
     "duration": 0.0684,
     "end_time": "2021-06-10T11:45:01.233006",
     "exception": false,
     "start_time": "2021-06-10T11:45:01.164606",
     "status": "completed"
    },
    "tags": []
   },
   "source": [
    "` * I am choosing Randomforest for teh final Model`"
   ]
  },
  {
   "cell_type": "code",
   "execution_count": 42,
   "id": "grateful-milwaukee",
   "metadata": {
    "execution": {
     "iopub.execute_input": "2021-06-10T11:45:01.361226Z",
     "iopub.status.busy": "2021-06-10T11:45:01.360560Z",
     "iopub.status.idle": "2021-06-10T11:45:01.363540Z",
     "shell.execute_reply": "2021-06-10T11:45:01.364015Z",
     "shell.execute_reply.started": "2021-06-10T11:28:38.770413Z"
    },
    "papermill": {
     "duration": 0.068714,
     "end_time": "2021-06-10T11:45:01.364221",
     "exception": false,
     "start_time": "2021-06-10T11:45:01.295507",
     "status": "completed"
    },
    "tags": []
   },
   "outputs": [],
   "source": [
    "# Using Stratified Kfold With RF modle and finding the ROC\n",
    "cv = StratifiedKFold(n_splits=5,shuffle=False)"
   ]
  },
  {
   "cell_type": "code",
   "execution_count": 43,
   "id": "collectible-hazard",
   "metadata": {
    "execution": {
     "iopub.execute_input": "2021-06-10T11:45:01.499391Z",
     "iopub.status.busy": "2021-06-10T11:45:01.498451Z",
     "iopub.status.idle": "2021-06-10T11:45:03.142799Z",
     "shell.execute_reply": "2021-06-10T11:45:03.142095Z",
     "shell.execute_reply.started": "2021-06-10T11:28:38.775779Z"
    },
    "papermill": {
     "duration": 1.717478,
     "end_time": "2021-06-10T11:45:03.142980",
     "exception": false,
     "start_time": "2021-06-10T11:45:01.425502",
     "status": "completed"
    },
    "tags": []
   },
   "outputs": [
    {
     "data": {
      "image/png": "[encoded data removed]",
      "text/plain": [
       "<Figure size 432x288 with 1 Axes>"
      ]
     },
     "metadata": {},
     "output_type": "display_data"
    }
   ],
   "source": [
    "tprs = []\n",
    "aucs = []\n",
    "mean_fpr = np.linspace(0,1,100)\n",
    "i =1\n",
    "for train,test in cv.split(X,y):\n",
    "    prob = rf.fit(X.iloc[train],y.iloc[train]).predict_proba(X.iloc[test])[:,1]\n",
    "    fpr, tpr, t = roc_curve(y[test], prob)\n",
    "    tprs.append(np.interp(mean_fpr, fpr, tpr))\n",
    "    roc_auc = auc(fpr, tpr)\n",
    "    aucs.append(roc_auc)\n",
    "    plt.plot(fpr, tpr, lw=2, alpha=0.3, label='ROC fold %d (AUC = %0.2f)' % (i, roc_auc))\n",
    "    i= i+1\n",
    "plt.plot([0,1],[0,1],linestyle = '--',lw = 2,color = 'black')\n",
    "mean_tpr = np.mean(tprs, axis=0)\n",
    "mean_auc = auc(mean_fpr, mean_tpr)\n",
    "plt.plot(mean_fpr, mean_tpr, color='blue',\n",
    "         label=r'Mean ROC (AUC = %0.2f )' % (mean_auc),lw=2, alpha=1)\n",
    "\n",
    "plt.xlabel('False Positive Rate')\n",
    "plt.ylabel('True Positive Rate')\n",
    "plt.title('ROC')\n",
    "plt.legend(loc=\"lower right\")\n",
    "plt.text(0.32,0.7,'More accurate area',fontsize = 12)\n",
    "plt.text(0.63,0.4,'Less accurate area',fontsize = 12)\n",
    "plt.show()"
   ]
  }
 ],
 "metadata": {
  "kernelspec": {
   "display_name": "Python 3",
   "language": "python",
   "name": "python3"
  },
  "language_info": {
   "codemirror_mode": {
    "name": "ipython",
    "version": 3
   },
   "file_extension": ".py",
   "mimetype": "text/x-python",
   "name": "python",
   "nbconvert_exporter": "python",
   "pygments_lexer": "ipython3",
   "version": "3.7.10"
  },
  "papermill": {
   "default_parameters": {},
   "duration": 29.021593,
   "end_time": "2021-06-10T11:45:04.122483",
   "environment_variables": {},
   "exception": null,
   "input_path": "__notebook__.ipynb",
   "output_path": "__notebook__.ipynb",
   "parameters": {},
   "start_time": "2021-06-10T11:44:35.100890",
   "version": "2.3.3"
  }
 },
 "nbformat": 4,
 "nbformat_minor": 5
}
